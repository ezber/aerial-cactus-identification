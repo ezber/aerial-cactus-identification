{
 "cells": [
  {
   "cell_type": "code",
   "execution_count": 71,
   "metadata": {},
   "outputs": [],
   "source": [
    "import pandas as pd\n",
    "import numpy as np\n",
    "from keras.models import Sequential\n",
    "from keras.layers import Dense,Conv2D,Flatten,MaxPooling2D,Dropout\n",
    "from PIL import Image\n",
    "import cv2 as cv\n",
    "from keras.utils import to_categorical\n",
    "from keras.optimizers import Adam\n",
    "\n",
    "\n",
    "\n"
   ]
  },
  {
   "cell_type": "code",
   "execution_count": null,
   "metadata": {},
   "outputs": [],
   "source": [
    "\n",
    "training = pd.read_csv('Desktop/aerial-cactus-identification/train.csv')\n",
    "sub = pd.read_csv('Desktop/aerial-cactus-identification/sample_submission.csv')\n",
    "\n"
   ]
  },
  {
   "cell_type": "code",
   "execution_count": 72,
   "metadata": {},
   "outputs": [],
   "source": [
    "empty = [] #initialize an empty array to fill it with the training data\n",
    "\n",
    "for i in training['id']:\n",
    "    newimage = cv.imread('Desktop/aerial-cactus-identification/train/' + i) #read the image files individually by id\n",
    "    empty.append(newimage)\n",
    "\n",
    "train_data = np.stack(empty) #stack up the data to be trained\n",
    "train_labels = training['has_cactus'] #labels are provided in the 'has_cactus' column\n"
   ]
  },
  {
   "cell_type": "code",
   "execution_count": 73,
   "metadata": {},
   "outputs": [
    {
     "name": "stdout",
     "output_type": "stream",
     "text": [
      "0        1\n",
      "1        1\n",
      "2        1\n",
      "3        1\n",
      "4        1\n",
      "5        1\n",
      "6        0\n",
      "7        0\n",
      "8        1\n",
      "9        1\n",
      "10       1\n",
      "11       0\n",
      "12       1\n",
      "13       1\n",
      "14       0\n",
      "15       1\n",
      "16       0\n",
      "17       0\n",
      "18       0\n",
      "19       1\n",
      "20       0\n",
      "21       1\n",
      "22       1\n",
      "23       1\n",
      "24       1\n",
      "25       1\n",
      "26       1\n",
      "27       1\n",
      "28       1\n",
      "29       1\n",
      "        ..\n",
      "17470    1\n",
      "17471    1\n",
      "17472    1\n",
      "17473    1\n",
      "17474    0\n",
      "17475    0\n",
      "17476    0\n",
      "17477    0\n",
      "17478    1\n",
      "17479    0\n",
      "17480    0\n",
      "17481    1\n",
      "17482    1\n",
      "17483    1\n",
      "17484    0\n",
      "17485    0\n",
      "17486    1\n",
      "17487    1\n",
      "17488    1\n",
      "17489    1\n",
      "17490    1\n",
      "17491    0\n",
      "17492    1\n",
      "17493    1\n",
      "17494    1\n",
      "17495    0\n",
      "17496    1\n",
      "17497    1\n",
      "17498    0\n",
      "17499    1\n",
      "Name: has_cactus, Length: 17500, dtype: int64\n"
     ]
    }
   ],
   "source": [
    "print(train_labels)"
   ]
  },
  {
   "cell_type": "code",
   "execution_count": 75,
   "metadata": {},
   "outputs": [
    {
     "name": "stdout",
     "output_type": "stream",
     "text": [
      "Train on 15750 samples, validate on 1750 samples\n",
      "Epoch 1/3\n",
      "15750/15750 [==============================] - 211s 13ms/step - loss: 0.1933 - acc: 0.9289 - val_loss: 0.1491 - val_acc: 0.9497\n",
      "Epoch 2/3\n",
      "15750/15750 [==============================] - 213s 14ms/step - loss: 0.1221 - acc: 0.9539 - val_loss: 0.0782 - val_acc: 0.9720\n",
      "Epoch 3/3\n",
      "15750/15750 [==============================] - 205s 13ms/step - loss: 0.0848 - acc: 0.9690 - val_loss: 0.0757 - val_acc: 0.9749\n"
     ]
    },
    {
     "data": {
      "text/plain": [
       "<keras.callbacks.History at 0x65606e048>"
      ]
     },
     "execution_count": 75,
     "metadata": {},
     "output_type": "execute_result"
    }
   ],
   "source": [
    "model = Sequential() #many layers are needed to capture the essential properties of the aerial images\n",
    "model.add(Conv2D(100,kernel_size=(3,3),activation='relu',input_shape=(32,32,3),padding='same'))\n",
    "model.add(MaxPooling2D(2,2))\n",
    "model.add(Conv2D(100,kernel_size=(3,3),activation='relu',padding = 'same'))\n",
    "model.add(MaxPooling2D(2,2))\n",
    "model.add(Conv2D(100,kernel_size=(3,3),activation='relu',padding = 'same'))\n",
    "model.add(MaxPooling2D(2,2))\n",
    "model.add(Conv2D(100,kernel_size=(3,3),activation='relu',padding = 'same'))\n",
    "model.add(MaxPooling2D(2,2))\n",
    "\n",
    "model.add(Flatten())\n",
    "model.add(Dense(100,activation = 'relu'))\n",
    "model.add(Dense(100,activation = 'relu'))\n",
    "model.add(Dense(100,activation = 'relu'))\n",
    "model.add(Dense(50,activation = 'relu'))\n",
    "model.add(Dense(2,activation='softmax'))\n",
    "\n",
    "#it's better to specify the optimizer learning rate for this problem\n",
    "model.compile(optimizer=Adam(lr = 0.0001),loss='sparse_categorical_crossentropy',metrics= ['accuracy'])\n",
    "model.fit(train_data,train_labels,epochs=3,validation_split = 0.1)\n",
    "\n"
   ]
  },
  {
   "cell_type": "code",
   "execution_count": 76,
   "metadata": {},
   "outputs": [
    {
     "name": "stdout",
     "output_type": "stream",
     "text": [
      "4000\n",
      "2950\n"
     ]
    }
   ],
   "source": [
    "\n",
    "empty = []\n",
    "\n",
    "for i in sub['id']: #ids of the images are provided in the submission folder\n",
    "    newimage = cv.imread('Desktop/aerial-cactus-identification/test/' + i)\n",
    "    empty.append(newimage)\n",
    "\n",
    "test_data = np.stack(empty)\n",
    "preds = model.predict_classes(test_data) #the predictions made by the algorithm (more than 90% accuracy)\n"
   ]
  },
  {
   "cell_type": "code",
   "execution_count": null,
   "metadata": {},
   "outputs": [],
   "source": []
  }
 ],
 "metadata": {
  "kernelspec": {
   "display_name": "Python 3",
   "language": "python",
   "name": "python3"
  },
  "language_info": {
   "codemirror_mode": {
    "name": "ipython",
    "version": 3
   },
   "file_extension": ".py",
   "mimetype": "text/x-python",
   "name": "python",
   "nbconvert_exporter": "python",
   "pygments_lexer": "ipython3",
   "version": "3.7.3"
  }
 },
 "nbformat": 4,
 "nbformat_minor": 2
}
